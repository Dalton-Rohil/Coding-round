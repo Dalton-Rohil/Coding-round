{
 "cells": [
  {
   "cell_type": "markdown",
   "id": "34d5ab8e",
   "metadata": {},
   "source": [
    "### Importing The Required Libraries"
   ]
  },
  {
   "cell_type": "code",
   "execution_count": null,
   "id": "d192b29f",
   "metadata": {},
   "outputs": [],
   "source": [
    "import pandas as pd\n",
    "import numpy as np\n",
    "import matplotlib.pyplot as plt\n",
    "import seaborn as sns\n",
    "from sklearn.metrics import accuracy_score ,classification_report,confusion_matrix\n",
    "from sklearn.ensemble import IsolationForest\n",
    "from sklearn.preprocessing import StandardScaler\n",
    "from sklearn.metrics import confusion_matrix, classification_report, accuracy_score, roc_auc_score, roc_curve\n",
    "from imblearn.over_sampling import SMOTE\n",
    "from imblearn.under_sampling import RandomUnderSampler\n",
    "from sklearn.model_selection import cross_val_score\n",
    "from sklearn.ensemble import RandomForestClassifier"
   ]
  },
  {
   "cell_type": "markdown",
   "id": "21cab733",
   "metadata": {},
   "source": [
    "### Loading the data from csv file to a Pandas DataFrame"
   ]
  },
  {
   "cell_type": "code",
   "execution_count": null,
   "id": "00e0a86e",
   "metadata": {},
   "outputs": [],
   "source": [
    "df = pd.read_csv(\"D:/New folder/Suzlon/ProstheticSystemsDataSet.csv\")"
   ]
  },
  {
   "cell_type": "code",
   "execution_count": null,
   "id": "1c9d40ca",
   "metadata": {},
   "outputs": [],
   "source": [
    "df.info()"
   ]
  },
  {
   "cell_type": "markdown",
   "id": "74b71840",
   "metadata": {},
   "source": [
    "## Performing EDA"
   ]
  },
  {
   "cell_type": "code",
   "execution_count": null,
   "id": "17b1f866",
   "metadata": {},
   "outputs": [],
   "source": [
    "df.head()"
   ]
  },
  {
   "cell_type": "markdown",
   "id": "c8615e76",
   "metadata": {},
   "source": [
    "### Finding Null values"
   ]
  },
  {
   "cell_type": "code",
   "execution_count": null,
   "id": "68c70c2c",
   "metadata": {},
   "outputs": [],
   "source": [
    "df.isnull().sum()"
   ]
  },
  {
   "cell_type": "code",
   "execution_count": null,
   "id": "88ab6bfe",
   "metadata": {},
   "outputs": [],
   "source": [
    "df['Family members'].fillna(df['Family members'].mode()[0],inplace=True)\n",
    "df.isnull().sum()"
   ]
  },
  {
   "cell_type": "code",
   "execution_count": null,
   "id": "0a01a22e",
   "metadata": {},
   "outputs": [],
   "source": [
    "df[df.duplicated()]"
   ]
  },
  {
   "cell_type": "markdown",
   "id": "6716d195",
   "metadata": {},
   "source": [
    "### Renaming the coloums"
   ]
  },
  {
   "cell_type": "code",
   "execution_count": null,
   "id": "3491d7b7",
   "metadata": {},
   "outputs": [],
   "source": [
    "df = df.rename(columns={'Age (in years)':'Age','Experience (in years)':'Experience','Income (in K/month)':'Income','ZIP Code':'ZIP_Code','Family members':'Family_members','Personal Loan':'Personal_Loan','Securities Account':'Securities_Account','CD Account':'CD_Account'})\n",
    "df.head()"
   ]
  },
  {
   "cell_type": "markdown",
   "id": "a4620fa2",
   "metadata": {},
   "source": [
    "### Performing the Univariate Analysis"
   ]
  },
  {
   "cell_type": "code",
   "execution_count": null,
   "id": "ace31295",
   "metadata": {},
   "outputs": [],
   "source": [
    "plt.style.use('fivethirtyeight')\n",
    "ax = sns.countplot(x='Personal_Loan', data=df,hue='Personal_Loan')"
   ]
  },
  {
   "cell_type": "code",
   "execution_count": null,
   "id": "0de2dcf3",
   "metadata": {},
   "outputs": [],
   "source": [
    "df['Personal_Loan'].value_counts()"
   ]
  },
  {
   "cell_type": "code",
   "execution_count": null,
   "id": "61ec2326",
   "metadata": {},
   "outputs": [],
   "source": [
    "df['Education'].value_counts(normalize=True).plot(kind='bar',title= 'Education')"
   ]
  },
  {
   "cell_type": "code",
   "execution_count": null,
   "id": "108c5c53",
   "metadata": {},
   "outputs": [],
   "source": [
    "sns.distplot(df['Age'],color='red')"
   ]
  },
  {
   "cell_type": "code",
   "execution_count": null,
   "id": "f7852928",
   "metadata": {},
   "outputs": [],
   "source": [
    "sns.distplot(df['Experience'],color='red')"
   ]
  },
  {
   "cell_type": "code",
   "execution_count": null,
   "id": "accdadbc",
   "metadata": {},
   "outputs": [],
   "source": [
    "df['Family_members'].value_counts(normalize=True).plot(kind='bar',title= 'Family_members')"
   ]
  },
  {
   "cell_type": "code",
   "execution_count": null,
   "id": "c60081a6",
   "metadata": {},
   "outputs": [],
   "source": [
    "fig, axes = plt.subplots(3,2, figsize=(20, 20))\n",
    "sns.distplot(df['Income'],ax=axes[0,0],color='orange')\n",
    "sns.boxplot(df['Income'],data=df,ax=axes[0,1])\n",
    "sns.distplot(df['CCAvg'],ax=axes[1,0],color='blue')\n",
    "sns.boxplot(df['CCAvg'],ax=axes[1,1],color='red')\n",
    "sns.distplot(df['Mortgage'],ax=axes[2,0],color='green')\n",
    "sns.boxplot(df['Mortgage'],ax=axes[2,1],color='red')"
   ]
  },
  {
   "cell_type": "code",
   "execution_count": null,
   "id": "16e908c5",
   "metadata": {},
   "outputs": [],
   "source": [
    "df['CreditCard'].value_counts(normalize=True).plot(kind='bar',title= 'CreditCard')\n"
   ]
  },
  {
   "cell_type": "code",
   "execution_count": null,
   "id": "6adeec54",
   "metadata": {},
   "outputs": [],
   "source": [
    "df['Online'].value_counts(normalize=True).plot(kind='bar',title= 'Online')"
   ]
  },
  {
   "cell_type": "code",
   "execution_count": null,
   "id": "c37785fc",
   "metadata": {},
   "outputs": [],
   "source": [
    "df['Securities_Account'].value_counts(normalize=True).plot(kind='bar',title= 'Securities_Account')"
   ]
  },
  {
   "cell_type": "code",
   "execution_count": null,
   "id": "c38e8ccc",
   "metadata": {},
   "outputs": [],
   "source": [
    "df['CD_Account'].value_counts(normalize=True).plot(kind='bar',title= 'CD_Account')"
   ]
  },
  {
   "cell_type": "markdown",
   "id": "60e96fb2",
   "metadata": {},
   "source": [
    "### Pereforming Bivariate Ananlysis"
   ]
  },
  {
   "cell_type": "code",
   "execution_count": null,
   "id": "cbde6ea9",
   "metadata": {},
   "outputs": [],
   "source": [
    "plt.rcParams['figure.figsize'] = [15, 8]\n",
    "ax= plt.style.use('fivethirtyeight')\n",
    "table=pd.crosstab(df.Education, df.Personal_Loan)\n",
    "table.div(table.sum(1).astype(float), axis=0).plot(kind='bar', stacked=True)\n",
    "plt.title('Stacked Bar Chart of Education vs Personal_Loan', fontsize=10)\n",
    "plt.xlabel('Education')\n",
    "plt.ylabel('Personal_Loan')\n",
    "plt.show()"
   ]
  },
  {
   "cell_type": "code",
   "execution_count": null,
   "id": "008aadd5",
   "metadata": {},
   "outputs": [],
   "source": [
    "plt.rcParams['figure.figsize'] = [15, 8]\n",
    "ax= plt.style.use('fivethirtyeight')\n",
    "table=pd.crosstab(df.Securities_Account ,df.Personal_Loan)\n",
    "table.div(table.sum(1).astype(float), axis=0).plot(kind='bar', stacked=True)\n",
    "plt.title('Stacked Bar Chart of Securities_Account vs Personal_Loan', fontsize=10)\n",
    "plt.xlabel('Securities_Account')\n",
    "plt.ylabel('Personal_Loan')\n",
    "plt.show()"
   ]
  },
  {
   "cell_type": "code",
   "execution_count": null,
   "id": "9107ddc2",
   "metadata": {},
   "outputs": [],
   "source": [
    "plt.rcParams['figure.figsize'] = [15, 8]\n",
    "ax= plt.style.use('fivethirtyeight')\n",
    "table=pd.crosstab(df.CD_Account, df.Personal_Loan)\n",
    "table.div(table.sum(1).astype(float), axis=0).plot(kind='bar', stacked=True)\n",
    "plt.title('Stacked Bar Chart of CD_Account vs Personal_Loan', fontsize=10)\n",
    "plt.xlabel('CD_Account')\n",
    "plt.ylabel('Personal_Loan')\n",
    "plt.show()\n"
   ]
  },
  {
   "cell_type": "code",
   "execution_count": null,
   "id": "815a8b45",
   "metadata": {},
   "outputs": [],
   "source": [
    "plt.rcParams['figure.figsize'] = [15, 8]\n",
    "ax= plt.style.use('fivethirtyeight')\n",
    "table=pd.crosstab(df.Online, df.Personal_Loan)\n",
    "table.div(table.sum(1).astype(float), axis=0).plot(kind='bar', stacked=True)\n",
    "plt.title('Stacked Bar Chart of Online vs Personal_Loan', fontsize=10)\n",
    "plt.xlabel('Online')\n",
    "plt.ylabel('Personal_Loan')\n",
    "plt.show()"
   ]
  },
  {
   "cell_type": "code",
   "execution_count": null,
   "id": "243d7b0e",
   "metadata": {},
   "outputs": [],
   "source": [
    "plt.rcParams['figure.figsize'] = [15, 8]\n",
    "ax= plt.style.use('fivethirtyeight')\n",
    "table=pd.crosstab(df.CreditCard, df.Personal_Loan)\n",
    "table.div(table.sum(1).astype(float), axis=0).plot(kind='bar', stacked=True)\n",
    "plt.title('Stacked Bar Chart of CreditCard vs Personal_Loan', fontsize=10)\n",
    "plt.xlabel('CreditCard')\n",
    "plt.ylabel('Personal_Loan')\n",
    "plt.show()\n"
   ]
  },
  {
   "cell_type": "markdown",
   "id": "cbc509f0",
   "metadata": {},
   "source": [
    "## Outlier Detection using IsolationForest"
   ]
  },
  {
   "cell_type": "code",
   "execution_count": null,
   "id": "27ea0902",
   "metadata": {},
   "outputs": [],
   "source": [
    "clf = IsolationForest(random_state=50,contamination=.01)\n",
    "clf.fit(df)"
   ]
  },
  {
   "cell_type": "markdown",
   "id": "9a372446",
   "metadata": {},
   "source": [
    "### Predicting outliers"
   ]
  },
  {
   "cell_type": "code",
   "execution_count": null,
   "id": "a12afe79",
   "metadata": {},
   "outputs": [],
   "source": [
    "y_pred_outliers = clf.predict(df)"
   ]
  },
  {
   "cell_type": "code",
   "execution_count": null,
   "id": "89abd0ca",
   "metadata": {},
   "outputs": [],
   "source": [
    "\n",
    "df['anomaly']=clf.predict(df.iloc[:,0:15])"
   ]
  },
  {
   "cell_type": "code",
   "execution_count": null,
   "id": "11e44899",
   "metadata": {},
   "outputs": [],
   "source": [
    "df"
   ]
  },
  {
   "cell_type": "code",
   "execution_count": null,
   "id": "fc6ae309",
   "metadata": {},
   "outputs": [],
   "source": [
    "df[df['anomaly']==-1]"
   ]
  },
  {
   "cell_type": "markdown",
   "id": "98e0c8bc",
   "metadata": {},
   "source": [
    "### Removing Outliers"
   ]
  },
  {
   "cell_type": "code",
   "execution_count": null,
   "id": "66cee837",
   "metadata": {},
   "outputs": [],
   "source": [
    "df.drop(df.index[df['anomaly']==-1])"
   ]
  },
  {
   "cell_type": "markdown",
   "id": "591ebd4d",
   "metadata": {},
   "source": [
    "### Splitting the DataSet"
   ]
  },
  {
   "cell_type": "code",
   "execution_count": null,
   "id": "3aee3a34",
   "metadata": {},
   "outputs": [],
   "source": [
    "X = df.drop(['Personal_Loan'], axis = 1)\n",
    "\n",
    "y = df['Personal_Loan']"
   ]
  },
  {
   "cell_type": "code",
   "execution_count": null,
   "id": "8aed2cab",
   "metadata": {},
   "outputs": [],
   "source": [
    "from sklearn.model_selection import StratifiedKFold, train_test_split\n",
    "X_train, X_test, y_train, y_test = train_test_split(X, y, test_size=0.3, random_state=1210)"
   ]
  },
  {
   "cell_type": "markdown",
   "id": "ed1062ab",
   "metadata": {},
   "source": [
    "## Balancing The Data"
   ]
  },
  {
   "cell_type": "code",
   "execution_count": null,
   "id": "08c324e0",
   "metadata": {},
   "outputs": [],
   "source": [
    "rus = RandomUnderSampler()\n",
    "X_rus, y_rus = rus.fit_resample(X_train, y_train)\n",
    "\n",
    "# check the balanced data\n",
    "print(pd.Series(y_rus).value_counts())\n",
    "\n",
    "# plot the new distribution\n",
    "fig, ax = plt.subplots(figsize=(7, 4))\n",
    "ax = sns.countplot(y_rus)\n",
    "plt.tight_layout()"
   ]
  },
  {
   "cell_type": "code",
   "execution_count": null,
   "id": "9edf067a",
   "metadata": {},
   "outputs": [],
   "source": [
    "from yellowbrick.features import Rank1D\n",
    "visualizer = Rank1D(algorithm='shapiro')\n",
    "visualizer.fit(X, y)\n",
    "visualizer.transform(X)\n",
    "visualizer.show()\n"
   ]
  },
  {
   "cell_type": "markdown",
   "id": "ed16a5e9",
   "metadata": {},
   "source": [
    "## Plotting Correlation HeatMap"
   ]
  },
  {
   "cell_type": "code",
   "execution_count": null,
   "id": "33fe56c0",
   "metadata": {},
   "outputs": [],
   "source": [
    "plt.figure(figsize=(16, 6))\n",
    "heatmap = sns.heatmap(df.corr(), vmin=-1, vmax=1, annot=False)\n",
    "heatmap.set_title('Correlation Heatmap', fontdict={'fontsize':12}, pad=12);"
   ]
  },
  {
   "cell_type": "markdown",
   "id": "2d75d0d2",
   "metadata": {},
   "source": [
    "### Removing unwanted coloums"
   ]
  },
  {
   "cell_type": "code",
   "execution_count": null,
   "id": "148f356e",
   "metadata": {},
   "outputs": [],
   "source": [
    "df = df.drop(['ID','ZIP_Code','Family_members','Online'],axis=1)"
   ]
  },
  {
   "cell_type": "code",
   "execution_count": null,
   "id": "4bc4d0c4",
   "metadata": {},
   "outputs": [],
   "source": [
    "df = df.drop(['anomaly'],axis=1)\n"
   ]
  },
  {
   "cell_type": "code",
   "execution_count": null,
   "id": "53e8a76e",
   "metadata": {},
   "outputs": [],
   "source": [
    "df"
   ]
  },
  {
   "cell_type": "markdown",
   "id": "f2a2f947",
   "metadata": {},
   "source": [
    "# Model building\n",
    "# 1. Decission Tree"
   ]
  },
  {
   "cell_type": "code",
   "execution_count": null,
   "id": "ea6a3234",
   "metadata": {},
   "outputs": [],
   "source": [
    "from sklearn.tree import  DecisionTreeClassifier\n",
    "from sklearn import tree\n",
    "from sklearn.metrics import classification_report\n",
    "from sklearn import preprocessing \n",
    "from sklearn import metrics"
   ]
  },
  {
   "cell_type": "code",
   "execution_count": null,
   "id": "4a46f387",
   "metadata": {},
   "outputs": [],
   "source": [
    "x = df.drop(['Personal_Loan'], axis = 1)"
   ]
  },
  {
   "cell_type": "code",
   "execution_count": null,
   "id": "b6953bcd",
   "metadata": {},
   "outputs": [],
   "source": [
    "y = df['Personal_Loan']"
   ]
  },
  {
   "cell_type": "code",
   "execution_count": null,
   "id": "de75b5ec",
   "metadata": {},
   "outputs": [],
   "source": [
    "X_train, X_val, y_train, y_val = train_test_split(x,y,test_size=0.2,random_state=101)"
   ]
  },
  {
   "cell_type": "code",
   "execution_count": null,
   "id": "ff4ae765",
   "metadata": {},
   "outputs": [],
   "source": [
    "sk = StratifiedKFold(n_splits = 10, shuffle=True, random_state = 101)"
   ]
  },
  {
   "cell_type": "code",
   "execution_count": null,
   "id": "09f908fd",
   "metadata": {},
   "outputs": [],
   "source": [
    "from imblearn.combine import SMOTETomek"
   ]
  },
  {
   "cell_type": "code",
   "execution_count": null,
   "id": "af3f70d4",
   "metadata": {},
   "outputs": [],
   "source": [
    "smk = SMOTETomek(random_state=101)\n",
    "X1_res,y1_res = smk.fit_resample(x,y)\n",
    "x.shape,y.shape,X1_res.shape,y1_res.shape"
   ]
  },
  {
   "cell_type": "code",
   "execution_count": null,
   "id": "17f1c31b",
   "metadata": {},
   "outputs": [],
   "source": [
    "X1_train, X1_val, y1_train, y1_val = train_test_split(X1_res,y1_res,test_size=0.2,random_state=100)"
   ]
  },
  {
   "cell_type": "code",
   "execution_count": null,
   "id": "d66f8dfb",
   "metadata": {},
   "outputs": [],
   "source": [
    "from sklearn.model_selection import GridSearchCV,RandomizedSearchCV"
   ]
  },
  {
   "cell_type": "code",
   "execution_count": null,
   "id": "6c82646b",
   "metadata": {},
   "outputs": [],
   "source": [
    "from sklearn.tree import DecisionTreeClassifier"
   ]
  },
  {
   "cell_type": "code",
   "execution_count": null,
   "id": "8d52944d",
   "metadata": {},
   "outputs": [],
   "source": [
    "dtmodel1 = DecisionTreeClassifier(random_state=101)\n",
    "a=[3,4,5,6,7,8,9,10]\n",
    "parameter = [{'max_depth':a,'max_leaf_nodes':a,'criterion':['entropy','gini'],'min_samples_split':a,'min_samples_leaf':a}]\n",
    "gridparam = GridSearchCV(dtmodel1,parameter)\n",
    "gridparam.fit(X1_res,y1_res)"
   ]
  },
  {
   "cell_type": "code",
   "execution_count": null,
   "id": "a6a63cae",
   "metadata": {},
   "outputs": [],
   "source": [
    "gridparam.best_params_"
   ]
  },
  {
   "cell_type": "code",
   "execution_count": null,
   "id": "57598230",
   "metadata": {},
   "outputs": [],
   "source": [
    "model = DecisionTreeClassifier(random_state=101,max_depth=6,criterion='gini',max_leaf_nodes=9,min_samples_split=3,min_samples_leaf=3)\n",
    "model.fit(X1_res,y1_res)\n",
    "result= cross_val_score(model,X1_res,y1_res,cv=sk)\n",
    "result.mean()"
   ]
  },
  {
   "cell_type": "code",
   "execution_count": null,
   "id": "0570f091",
   "metadata": {},
   "outputs": [],
   "source": [
    "model_1= DecisionTreeClassifier(random_state=101,max_depth=6,criterion='gini',max_leaf_nodes=9,min_samples_split=3,min_samples_leaf=3)\n",
    "model_1.fit(X1_train,y1_train)\n",
    "result1 = model_1.score(X1_train,y1_train)\n",
    "result2 = model_1.score(X1_val,y1_val)\n",
    "result1,result2"
   ]
  },
  {
   "cell_type": "code",
   "execution_count": null,
   "id": "c52d4cb5",
   "metadata": {},
   "outputs": [],
   "source": [
    "print(classification_report(y1_val,model_1.predict(X1_val)))"
   ]
  },
  {
   "cell_type": "code",
   "execution_count": null,
   "id": "f8138c17",
   "metadata": {},
   "outputs": [],
   "source": [
    "roc_auc_score(y1_val, model_1.predict_proba(X1_val)[:, 1])"
   ]
  },
  {
   "cell_type": "code",
   "execution_count": null,
   "id": "10971de1",
   "metadata": {},
   "outputs": [],
   "source": [
    "pd.crosstab(y1_val,model_1.predict(X1_val))"
   ]
  },
  {
   "cell_type": "markdown",
   "id": "8eb1f5e8",
   "metadata": {},
   "source": [
    "## 2.Random Forest"
   ]
  },
  {
   "cell_type": "code",
   "execution_count": null,
   "id": "569b329f",
   "metadata": {},
   "outputs": [],
   "source": [
    "a = range(2,10)\n",
    "parameter = [{'criterion':['gini','entropy'],'max_depth':a,'max_leaf_nodes':a,'min_samples_split':a,'max_features':['auto','sqrt','log2']}]\n",
    "Rmodel = RandomForestClassifier()"
   ]
  },
  {
   "cell_type": "code",
   "execution_count": null,
   "id": "d1e22d02",
   "metadata": {},
   "outputs": [],
   "source": [
    "gridRF = GridSearchCV(Rmodel,parameter)\n",
    "gridRF.fit(X1_res,y1_res)\n",
    "gridRF.best_params_"
   ]
  },
  {
   "cell_type": "code",
   "execution_count": null,
   "id": "9bda0243",
   "metadata": {},
   "outputs": [],
   "source": [
    "model2 = RandomForestClassifier(n_estimators=500,criterion='entropy', max_depth=8, max_leaf_nodes=9,random_state=101,min_samples_split=5)\n",
    "model2.fit(X1_res,y1_res)\n",
    "result3 = cross_val_score(model2,X1_res,y1_res,cv=sk)\n",
    "result3.mean()"
   ]
  },
  {
   "cell_type": "code",
   "execution_count": null,
   "id": "15704f50",
   "metadata": {},
   "outputs": [],
   "source": [
    "model2_1 = RandomForestClassifier(n_estimators=500,criterion='entropy', max_depth=8, max_leaf_nodes=9,random_state=101,min_samples_split=5)\n",
    "model2_1.fit(X1_train,y1_train)\n",
    "result4 = model2_1.score(X1_train,y1_train)\n",
    "result5 = model2_1.score(X1_val,y1_val)\n",
    "result4,result5"
   ]
  },
  {
   "cell_type": "code",
   "execution_count": null,
   "id": "36f1ae8f",
   "metadata": {},
   "outputs": [],
   "source": [
    "print(classification_report(y1_val,model2_1.predict(X1_val)))"
   ]
  },
  {
   "cell_type": "code",
   "execution_count": null,
   "id": "be1fb935",
   "metadata": {},
   "outputs": [],
   "source": [
    "roc_auc_score(y1_val, model2_1.predict_proba(X1_val)[:, 1])"
   ]
  },
  {
   "cell_type": "code",
   "execution_count": null,
   "id": "b75840a3",
   "metadata": {},
   "outputs": [],
   "source": [
    "pd.crosstab(y1_val,model2_1.predict(X1_val))"
   ]
  },
  {
   "cell_type": "code",
   "execution_count": null,
   "id": "e5d59867",
   "metadata": {},
   "outputs": [],
   "source": []
  }
 ],
 "metadata": {
  "kernelspec": {
   "display_name": "Python 3 (ipykernel)",
   "language": "python",
   "name": "python3"
  },
  "language_info": {
   "codemirror_mode": {
    "name": "ipython",
    "version": 3
   },
   "file_extension": ".py",
   "mimetype": "text/x-python",
   "name": "python",
   "nbconvert_exporter": "python",
   "pygments_lexer": "ipython3",
   "version": "3.9.7"
  }
 },
 "nbformat": 4,
 "nbformat_minor": 5
}
